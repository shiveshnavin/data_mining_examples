{
 "cells": [
  {
   "cell_type": "markdown",
   "metadata": {},
   "source": [
    "Equal Width and Frequency Binning "
   ]
  },
  {
   "cell_type": "code",
   "execution_count": 12,
   "metadata": {},
   "outputs": [],
   "source": [
    "def equifreq(arr1, m): \n",
    "      \n",
    "    a = len(arr1) \n",
    "    n = int(a / m) \n",
    "    for i in range(0, m): \n",
    "        arr = [] \n",
    "        for j in range(i * n, (i + 1) * n): \n",
    "            if j >= a: \n",
    "                break\n",
    "            arr = arr + [arr1[j]] \n",
    "        print(arr) \n",
    "  \n",
    "#equal width \n",
    "def equiwidth(arr1, m): \n",
    "    a = len(arr1) \n",
    "    w = int((max(arr1) - min(arr1)) / m) \n",
    "    min1 = min(arr1) \n",
    "    arr = [] \n",
    "    for i in range(0, m + 1): \n",
    "        arr = arr + [min1 + w * i] \n",
    "    arri=[] \n",
    "      \n",
    "    for i in range(0, m): \n",
    "        temp = [] \n",
    "        for j in arr1: \n",
    "            if j >= arr[i] and j <= arr[i+1]: \n",
    "                temp += [j] \n",
    "        arri += [temp] \n",
    "    \n",
    "    print(arri) "
   ]
  },
  {
   "cell_type": "code",
   "execution_count": 14,
   "metadata": {},
   "outputs": [
    {
     "name": "stdout",
     "output_type": "stream",
     "text": [
      "equal width binning\n",
      "[5, 10, 11, 13, 15, 35, 50, 55, 72]\n",
      "[92]\n",
      "[204, 215]\n",
      "\n",
      "\n",
      "equal frequency binning\n",
      "[5, 10, 11, 13]\n",
      "[15, 35, 50, 55]\n",
      "[72, 92, 204, 215]\n"
     ]
    }
   ],
   "source": [
    "data = [5, 10, 11, 13, 15, 35, 50, 55, 72, 92, 204, 215] \n",
    "#no of bins \n",
    "m = 3 \n",
    "  \n",
    "print(\"equal width binning\") \n",
    "equiwidth(data, 3) \n",
    "\n",
    "print(\"\\n\\nequal frequency binning\") \n",
    "equifreq(data, m) "
   ]
  },
  {
   "cell_type": "markdown",
   "metadata": {},
   "source": [
    "Eucledian Distance matrix Calculator"
   ]
  },
  {
   "cell_type": "code",
   "execution_count": 32,
   "metadata": {},
   "outputs": [
    {
     "name": "stdout",
     "output_type": "stream",
     "text": [
      "[[ 0.         14.14213562  7.07106781]\n",
      " [14.14213562  0.          7.07106781]\n",
      " [ 7.07106781  7.07106781  0.        ]]\n"
     ]
    }
   ],
   "source": [
    "# Python code to find Euclidean distance \n",
    "# using sum() and square() \n",
    "  \n",
    "import numpy as np \n",
    " \n",
    "def eucdist(p1,p2):\n",
    "    # intializing points in \n",
    "    # numpy arrays \n",
    "    point1 = np.array(p1) #(2,3)\n",
    "    point2 = np.array(p2) #(7,4)\n",
    "\n",
    "    # finding sum of squares \n",
    "    sum_sq = np.sum(np.square(point1 - point2)) \n",
    "\n",
    "    # Doing squareroot and \n",
    "    # printing Euclidean distance \n",
    "    return np.sqrt(sum_sq)\n",
    "\n",
    "arr = [(0,0),(10,10),(5,5)] \n",
    "\n",
    "# print(eucdist(arr[0],arr[1]))\n",
    "result = []\n",
    "for i in arr:\n",
    "    tmp = []\n",
    "    for j in arr:\n",
    "        tmp.append(eucdist(i,j))\n",
    "    result.append(tmp)\n",
    "     \n",
    "print(np.matrix(result))"
   ]
  }
 ],
 "metadata": {
  "kernelspec": {
   "display_name": "Python 3",
   "language": "python",
   "name": "python3"
  },
  "language_info": {
   "codemirror_mode": {
    "name": "ipython",
    "version": 3
   },
   "file_extension": ".py",
   "mimetype": "text/x-python",
   "name": "python",
   "nbconvert_exporter": "python",
   "pygments_lexer": "ipython3",
   "version": "3.8.6"
  }
 },
 "nbformat": 4,
 "nbformat_minor": 2
}
