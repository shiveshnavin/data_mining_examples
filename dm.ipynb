{
 "cells": [
  {
   "cell_type": "markdown",
   "metadata": {},
   "source": [
    "Matrix Calculator"
   ]
  },
  {
   "cell_type": "code",
   "execution_count": 1,
   "metadata": {},
   "outputs": [],
   "source": [
    "import numpy as np\n",
    "def calc(arr,method): \n",
    "    result = []\n",
    "    for i in arr:\n",
    "        tmp = []\n",
    "        for j in arr:\n",
    "            tmp.append(method(i,j))\n",
    "        result.append(tmp)\n",
    "\n",
    "    print(np.matrix(result))"
   ]
  },
  {
   "cell_type": "markdown",
   "metadata": {},
   "source": [
    "Equal Width and Frequency Binning "
   ]
  },
  {
   "cell_type": "code",
   "execution_count": 2,
   "metadata": {},
   "outputs": [],
   "source": [
    "def equifreq(arr1, m): \n",
    "      \n",
    "    a = len(arr1) \n",
    "    n = int(a / m) \n",
    "    for i in range(0, m): \n",
    "        arr = [] \n",
    "        for j in range(i * n, (i + 1) * n): \n",
    "            if j >= a: \n",
    "                break\n",
    "            arr = arr + [arr1[j]] \n",
    "        print(arr) \n",
    "  \n",
    "#equal width \n",
    "def equiwidth(arr1, m): \n",
    "    a = len(arr1) \n",
    "    w = int((max(arr1) - min(arr1)) / m) \n",
    "    min1 = min(arr1) \n",
    "    arr = [] \n",
    "    for i in range(0, m + 1): \n",
    "        arr = arr + [min1 + w * i] \n",
    "    arri=[] \n",
    "      \n",
    "    for i in range(0, m): \n",
    "        temp = [] \n",
    "        for j in arr1: \n",
    "            if j >= arr[i] and j <= arr[i+1]: \n",
    "                temp += [j] \n",
    "        arri += [temp] \n",
    "    \n",
    "    print(arri) "
   ]
  },
  {
   "cell_type": "code",
   "execution_count": 3,
   "metadata": {},
   "outputs": [
    {
     "name": "stdout",
     "output_type": "stream",
     "text": [
      "equal width binning\n",
      "[[5, 10, 11, 13, 15, 35, 50, 55, 72], [92], [204, 215]]\n",
      "\n",
      "\n",
      "equal frequency binning\n",
      "[5, 10, 11, 13]\n",
      "[15, 35, 50, 55]\n",
      "[72, 92, 204, 215]\n"
     ]
    }
   ],
   "source": [
    "data = [5, 10, 11, 13, 15, 35, 50, 55, 72, 92, 204, 215] \n",
    "#no of bins \n",
    "m = 3 \n",
    "  \n",
    "print(\"equal width binning\") \n",
    "equiwidth(data, 3) \n",
    "\n",
    "print(\"\\n\\nequal frequency binning\") \n",
    "equifreq(data, m) "
   ]
  },
  {
   "cell_type": "markdown",
   "metadata": {},
   "source": [
    "Eucledian Distance matrix Calculator"
   ]
  },
  {
   "cell_type": "code",
   "execution_count": 4,
   "metadata": {},
   "outputs": [],
   "source": [
    "# Python code to find Euclidean distance \n",
    "# using sum() and square() \n",
    "  \n",
    "import numpy as np \n",
    " \n",
    "def eucdist(p1,p2):\n",
    "    # intializing points in \n",
    "    # numpy arrays \n",
    "    point1 = np.array(p1) #(2,3)\n",
    "    point2 = np.array(p2) #(7,4)\n",
    "\n",
    "    # finding sum of squares \n",
    "    sum_sq = np.sum(np.square(point1 - point2)) \n",
    "\n",
    "    # Doing squareroot and \n",
    "    # printing Euclidean distance \n",
    "    return np.sqrt(sum_sq)\n"
   ]
  },
  {
   "cell_type": "code",
   "execution_count": 5,
   "metadata": {},
   "outputs": [
    {
     "name": "stdout",
     "output_type": "stream",
     "text": [
      "[[0.         2.82842712 3.16227766 5.09901951]\n",
      " [2.82842712 0.         1.41421356 3.16227766]\n",
      " [3.16227766 1.41421356 0.         2.        ]\n",
      " [5.09901951 3.16227766 2.         0.        ]]\n"
     ]
    }
   ],
   "source": [
    "arr = [(0,2),(2,0),(3,1),(5,1)] \n",
    "calc(arr,eucdist)"
   ]
  },
  {
   "cell_type": "markdown",
   "metadata": {},
   "source": [
    "Mahattan Distance"
   ]
  },
  {
   "cell_type": "code",
   "execution_count": 6,
   "metadata": {},
   "outputs": [],
   "source": [
    "from scipy import spatial\n",
    "def mandist(p1,p2): \n",
    "    return spatial.distance.minkowski(p1, p2, p=1)\n"
   ]
  },
  {
   "cell_type": "code",
   "execution_count": 7,
   "metadata": {},
   "outputs": [
    {
     "name": "stdout",
     "output_type": "stream",
     "text": [
      "[[0. 4. 4. 6.]\n",
      " [4. 0. 2. 4.]\n",
      " [4. 2. 0. 2.]\n",
      " [6. 4. 2. 0.]]\n"
     ]
    }
   ],
   "source": [
    "arr = [(0,2),(2,0),(3,1),(5,1)] \n",
    "calc(arr,mandist)"
   ]
  },
  {
   "cell_type": "markdown",
   "metadata": {},
   "source": [
    "Supremum Distance Matrix"
   ]
  },
  {
   "cell_type": "code",
   "execution_count": 8,
   "metadata": {},
   "outputs": [],
   "source": [
    "from scipy import spatial\n",
    "\n",
    "def supdist(p1,p2): \n",
    "    return spatial.distance.minkowski(p1, p2, p=float('inf'))\n"
   ]
  },
  {
   "cell_type": "code",
   "execution_count": 9,
   "metadata": {},
   "outputs": [
    {
     "name": "stdout",
     "output_type": "stream",
     "text": [
      "[[0. 2. 3. 5.]\n",
      " [2. 0. 1. 3.]\n",
      " [3. 1. 0. 2.]\n",
      " [5. 3. 2. 0.]]\n"
     ]
    }
   ],
   "source": [
    "arr = [(0,2),(2,0),(3,1),(5,1)] \n",
    "calc(arr,supdist)"
   ]
  },
  {
   "cell_type": "markdown",
   "metadata": {},
   "source": [
    "Chevysev Distance"
   ]
  },
  {
   "cell_type": "code",
   "execution_count": 10,
   "metadata": {},
   "outputs": [
    {
     "name": "stdout",
     "output_type": "stream",
     "text": [
      "[[0 7]\n",
      " [7 0]]\n"
     ]
    }
   ],
   "source": [
    "from scipy.spatial import distance\n",
    "chevdist = distance.chebyshev\n",
    "\n",
    "arr = [(0,3,4,5),(7,6,3,-1)] \n",
    "calc(arr,chevdist)"
   ]
  },
  {
   "cell_type": "markdown",
   "metadata": {},
   "source": [
    "Jaccard Coefficient"
   ]
  },
  {
   "cell_type": "code",
   "execution_count": 11,
   "metadata": {
    "scrolled": true
   },
   "outputs": [
    {
     "name": "stdout",
     "output_type": "stream",
     "text": [
      "[0.7 0. ]\n"
     ]
    }
   ],
   "source": [
    "import numpy as np\n",
    "import sklearn.metrics as sk\n",
    "\n",
    "list1 = [1,0,0,0,0,0,0,0,0,0]\n",
    "list2 = [0,0,0,0,0,0,1,0,0,1] \n",
    "\n",
    "print(sk.jaccard_score(list1, list2, average=None))"
   ]
  },
  {
   "cell_type": "markdown",
   "metadata": {},
   "source": [
    "Cosine similarity"
   ]
  },
  {
   "cell_type": "code",
   "execution_count": 12,
   "metadata": {},
   "outputs": [
    {
     "name": "stdout",
     "output_type": "stream",
     "text": [
      "length 1 = 6.48074069840786\n",
      "length 2 = 2.449489742783178\n",
      "5\n",
      "-----\n",
      "6.481  x  2.449\n",
      "\n",
      "Cosine Similary 0.3149704\n"
     ]
    }
   ],
   "source": [
    "import numpy as np\n",
    "from sklearn.metrics.pairwise import cosine_similarity\n",
    "\n",
    "list1 = [3,2,0,5,0,0,0,2,0,0]\n",
    "list2 = [1,0,0,0,0,0,0,1,0,2] \n",
    "\n",
    "len1 = np.linalg.norm(list1)\n",
    "len2 = np.linalg.norm(list2)\n",
    "\n",
    "print('length 1 =',len1)\n",
    "print('length 2 =',len2)\n",
    "\n",
    "L1=len(list1)\n",
    "L2=len(list2) \n",
    "    \n",
    "def square_rooted(x):\n",
    "    return round(sqrt(sum([a*a for a in x])),3)\n",
    " \n",
    "def cosine_similarity(x,y):\n",
    "    numerator = sum(a*b for a,b in zip(x,y))\n",
    "    \n",
    "    len1 = round(np.linalg.norm(list1),3)\n",
    "    len2 =  round(np.linalg.norm(list2),3)\n",
    "\n",
    "    print(numerator)\n",
    "    print(\"-----\")\n",
    "    print(len1,' x ',len2)\n",
    "    len1 = np.linalg.norm(list1)\n",
    "    len2 = np.linalg.norm(list2)\n",
    "    denominator = len1 * len2\n",
    "    return round(numerator/float(denominator),7)\n",
    " \n",
    "print(\"\\nCosine Similary\" ,cosine_similarity(list1, list2))"
   ]
  },
  {
   "cell_type": "markdown",
   "metadata": {},
   "source": [
    "Mean Median Mode Percentile"
   ]
  },
  {
   "cell_type": "code",
   "execution_count": 128,
   "metadata": {
    "scrolled": true
   },
   "outputs": [
    {
     "name": "stdout",
     "output_type": "stream",
     "text": [
      "mean of given data set is 13.5\n",
      "median of given data set is 12.5\n",
      "mode of given data set is 11\n",
      "14.5\n",
      "Q1  11.0\n",
      "Q2  12.5\n",
      "Q3  14.5\n",
      "Q4  22\n"
     ]
    }
   ],
   "source": [
    "import statistics \n",
    "import numpy as np \n",
    "  \n",
    "arr =[10,12,11,15,11,14,13,17,12,22,14,11] \n",
    "  \n",
    "print(\"mean of given data set is % s\" % (statistics.mean(arr)))\n",
    "print(\"median of given data set is % s\" % (statistics.median(arr)))\n",
    "print(\"mode of given data set is % s\" % (statistics.mode(arr)))\n",
    "\n",
    "def perc(arr,p):\n",
    "    arr=np.sort(arr)\n",
    "#     print(arr)\n",
    "    i=p*len(arr)/100\n",
    "#     print(i)\n",
    "    if (i).is_integer(): \n",
    "        return (arr[int(i)-1] + arr[int(i)] )/2\n",
    "    else:\n",
    "        return arr[int(round(i+1))]\n",
    "# perc = np.percentile\n",
    "\n",
    "print(perc(arr,75))\n",
    "# https://www.dummies.com/education/math/statistics/how-to-calculate-percentiles-in-statistics/\n",
    "\n",
    "print('Q1 ',perc(arr, 25))\n",
    "print('Q2 ',perc(arr, 50)) # median\n",
    "print('Q3 ',perc(arr, 75))\n",
    "print('Q4 ',np.max(arr)) \n"
   ]
  },
  {
   "cell_type": "markdown",
   "metadata": {},
   "source": [
    "Variability : Range , IQR , Mean Deviation , Standard Deviation"
   ]
  },
  {
   "cell_type": "code",
   "execution_count": 122,
   "metadata": {
    "scrolled": false
   },
   "outputs": [
    {
     "name": "stdout",
     "output_type": "stream",
     "text": [
      "Range  5\n",
      "IQR  1\n",
      "1\n",
      "mean  3.7\n",
      "\n",
      "\n",
      "[2.7 1.7 0.7 0.7 0.3 0.3 0.3 1.3 1.3 2.3]\n",
      "-------------\n",
      "10\n",
      "\n",
      "\n",
      "Mean deviation  1.1600000000000001\n",
      "Std Deviation 1.4944341180973264\n",
      "Variance 2.2333333333333334\n"
     ]
    }
   ],
   "source": [
    "import numpy as np \n",
    "import scipy \n",
    "from numpy import mean, absolute  \n",
    "import statistics \n",
    "\n",
    "# iqr = scipy.stats.iqr\n",
    "def iqr(arr):\n",
    "    t25=perc(arr,25)\n",
    "    t75=perc(arr,75)\n",
    "    return t75-t25\n",
    "\n",
    "arr =[1, 2, 3, 3, 4, 4, 4, 5, 5, 6] \n",
    "print('Range ',np.max(arr)-np.min(arr))\n",
    "print('IQR ',perc(arr, 75)-perc(arr, 25))\n",
    "print(iqr(arr))\n",
    "\n",
    "men=mean(arr)\n",
    "print('mean ',men)\n",
    "diffs=absolute(arr - men)\n",
    "print('\\n')\n",
    "print(diffs)\n",
    "print('-------------')\n",
    "print(len(arr))\n",
    "print('\\n')\n",
    "# Absolute mean deviation \n",
    "print('Mean deviation ',sum(diffs)/len(arr) )\n",
    "print(\"Std Deviation\",statistics.stdev(arr))\n",
    "# https://www.calculator.net/standard-deviation-calculator.html\n",
    "\n",
    "print('Variance',statistics.variance(arr))\n",
    "# https://www.socscistatistics.com/descriptive/variance/default.aspx"
   ]
  },
  {
   "cell_type": "markdown",
   "metadata": {},
   "source": [
    "Box Plot"
   ]
  },
  {
   "cell_type": "code",
   "execution_count": 125,
   "metadata": {
    "scrolled": true
   },
   "outputs": [
    {
     "name": "stdout",
     "output_type": "stream",
     "text": [
      "Q1  11.0\n",
      "Q3  14.5\n",
      "IQR  3.5\n",
      "min 5.75\n",
      "max 19.75\n"
     ]
    },
    {
     "data": {
      "image/png": "[encoded data removed]",
      "text/plain": [
       "<Figure size 432x288 with 1 Axes>"
      ]
     },
     "metadata": {},
     "output_type": "display_data"
    }
   ],
   "source": [
    "import seaborn as sns\n",
    "import numpy as np \n",
    "  \n",
    "arr =[10,12,11,15,11,14,13,17,12,22,14,11]  \n",
    "  \n",
    "print('Q1 ',perc(arr, 25)) \n",
    "print('Q3 ',perc(arr, 75)) \n",
    "iq=iqr(arr)\n",
    "print('IQR ',iq)\n",
    "print('min',perc(arr, 25) - 1.5*iq)\n",
    "print('max',perc(arr, 75) + 1.5*iq) \n",
    "  \n",
    "sns.set_theme(style=\"whitegrid\") \n",
    "ax = sns.boxplot(x=arr)"
   ]
  },
  {
   "cell_type": "markdown",
   "metadata": {},
   "source": [
    "Min Max Normalization"
   ]
  },
  {
   "cell_type": "code",
   "execution_count": 147,
   "metadata": {},
   "outputs": [
    {
     "name": "stdout",
     "output_type": "stream",
     "text": [
      "\n",
      "Old min  10\n",
      "Old max  22\n",
      "\n",
      "x -  10\n",
      "----------------- ( 1 )\n",
      "22  -  10 => 12\n",
      "\n",
      "\n",
      "[0.0, 0.17, 0.08, 0.42, 0.08, 0.33, 0.25, 0.58, 0.17, 1.0, 0.33, 0.08]\n"
     ]
    }
   ],
   "source": [
    "import numpy as np \n",
    "\n",
    "arr =[10,12,11,15,11,14,13,17,12,22,14,11]  \n",
    "nmax = 1\n",
    "nmin = 0\n",
    "\n",
    "print('\\nOld min ',np.min(arr))\n",
    "print('Old max ',np.max(arr))\n",
    "\n",
    "print('\\nx - ',np.min(arr))\n",
    "print('-----------------','(',nmax-nmin,')')\n",
    "print(np.max(arr),' - ',np.min(arr),'=>',(np.max(arr)-np.min(arr)))\n",
    "print('\\n')\n",
    "narr=[]\n",
    "for x in arr:\n",
    "    nx = (x-np.min(arr))*(nmax-nmin)/(np.max(arr)-np.min(arr))\n",
    "    narr.append(round(nx,2))\n",
    "\n",
    "print(narr)\n"
   ]
  }
 ],
 "metadata": {
  "kernelspec": {
   "display_name": "Python 3",
   "language": "python",
   "name": "python3"
  },
  "language_info": {
   "codemirror_mode": {
    "name": "ipython",
    "version": 3
   },
   "file_extension": ".py",
   "mimetype": "text/x-python",
   "name": "python",
   "nbconvert_exporter": "python",
   "pygments_lexer": "ipython3",
   "version": "3.8.6"
  }
 },
 "nbformat": 4,
 "nbformat_minor": 2
}
